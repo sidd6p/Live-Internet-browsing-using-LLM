{
 "cells": [
  {
   "cell_type": "code",
   "execution_count": 1,
   "id": "1551d7ec",
   "metadata": {
    "execution": {
     "iopub.execute_input": "2024-11-12T17:07:15.778152Z",
     "iopub.status.busy": "2024-11-12T17:07:15.777543Z",
     "iopub.status.idle": "2024-11-12T17:07:31.675207Z",
     "shell.execute_reply": "2024-11-12T17:07:31.673784Z"
    },
    "papermill": {
     "duration": 15.907009,
     "end_time": "2024-11-12T17:07:31.678308",
     "exception": false,
     "start_time": "2024-11-12T17:07:15.771299",
     "status": "completed"
    },
    "tags": []
   },
   "outputs": [
    {
     "name": "stdout",
     "output_type": "stream",
     "text": [
      "Collecting tavily-python\r\n",
      "  Downloading tavily_python-0.5.0-py3-none-any.whl.metadata (11 kB)\r\n",
      "Requirement already satisfied: requests in /opt/conda/lib/python3.10/site-packages (from tavily-python) (2.32.3)\r\n",
      "Collecting tiktoken>=0.5.1 (from tavily-python)\r\n",
      "  Downloading tiktoken-0.8.0-cp310-cp310-manylinux_2_17_x86_64.manylinux2014_x86_64.whl.metadata (6.6 kB)\r\n",
      "Requirement already satisfied: httpx in /opt/conda/lib/python3.10/site-packages (from tavily-python) (0.27.0)\r\n",
      "Requirement already satisfied: regex>=2022.1.18 in /opt/conda/lib/python3.10/site-packages (from tiktoken>=0.5.1->tavily-python) (2024.5.15)\r\n",
      "Requirement already satisfied: charset-normalizer<4,>=2 in /opt/conda/lib/python3.10/site-packages (from requests->tavily-python) (3.3.2)\r\n",
      "Requirement already satisfied: idna<4,>=2.5 in /opt/conda/lib/python3.10/site-packages (from requests->tavily-python) (3.7)\r\n",
      "Requirement already satisfied: urllib3<3,>=1.21.1 in /opt/conda/lib/python3.10/site-packages (from requests->tavily-python) (1.26.18)\r\n",
      "Requirement already satisfied: certifi>=2017.4.17 in /opt/conda/lib/python3.10/site-packages (from requests->tavily-python) (2024.8.30)\r\n",
      "Requirement already satisfied: anyio in /opt/conda/lib/python3.10/site-packages (from httpx->tavily-python) (4.4.0)\r\n",
      "Requirement already satisfied: httpcore==1.* in /opt/conda/lib/python3.10/site-packages (from httpx->tavily-python) (1.0.5)\r\n",
      "Requirement already satisfied: sniffio in /opt/conda/lib/python3.10/site-packages (from httpx->tavily-python) (1.3.1)\r\n",
      "Requirement already satisfied: h11<0.15,>=0.13 in /opt/conda/lib/python3.10/site-packages (from httpcore==1.*->httpx->tavily-python) (0.14.0)\r\n",
      "Requirement already satisfied: exceptiongroup>=1.0.2 in /opt/conda/lib/python3.10/site-packages (from anyio->httpx->tavily-python) (1.2.0)\r\n",
      "Requirement already satisfied: typing-extensions>=4.1 in /opt/conda/lib/python3.10/site-packages (from anyio->httpx->tavily-python) (4.12.2)\r\n",
      "Downloading tavily_python-0.5.0-py3-none-any.whl (14 kB)\r\n",
      "Downloading tiktoken-0.8.0-cp310-cp310-manylinux_2_17_x86_64.manylinux2014_x86_64.whl (1.2 MB)\r\n",
      "\u001b[2K   \u001b[90m━━━━━━━━━━━━━━━━━━━━━━━━━━━━━━━━━━━━━━━━\u001b[0m \u001b[32m1.2/1.2 MB\u001b[0m \u001b[31m16.0 MB/s\u001b[0m eta \u001b[36m0:00:00\u001b[0m\r\n",
      "\u001b[?25hInstalling collected packages: tiktoken, tavily-python\r\n",
      "Successfully installed tavily-python-0.5.0 tiktoken-0.8.0\r\n"
     ]
    }
   ],
   "source": [
    "!pip install tavily-python"
   ]
  },
  {
   "cell_type": "code",
   "execution_count": 2,
   "id": "7bf860d4",
   "metadata": {
    "execution": {
     "iopub.execute_input": "2024-11-12T17:07:31.688397Z",
     "iopub.status.busy": "2024-11-12T17:07:31.687901Z",
     "iopub.status.idle": "2024-11-12T17:07:31.826146Z",
     "shell.execute_reply": "2024-11-12T17:07:31.825037Z"
    },
    "papermill": {
     "duration": 0.146434,
     "end_time": "2024-11-12T17:07:31.828897",
     "exception": false,
     "start_time": "2024-11-12T17:07:31.682463",
     "status": "completed"
    },
    "tags": []
   },
   "outputs": [],
   "source": [
    "from kaggle_secrets import UserSecretsClient\n",
    "user_secrets = UserSecretsClient()\n",
    "tvly_api_key = user_secrets.get_secret(\"tvly_api_key\")"
   ]
  },
  {
   "cell_type": "code",
   "execution_count": 3,
   "id": "45eaa793",
   "metadata": {
    "execution": {
     "iopub.execute_input": "2024-11-12T17:07:31.838322Z",
     "iopub.status.busy": "2024-11-12T17:07:31.837847Z",
     "iopub.status.idle": "2024-11-12T17:07:32.282521Z",
     "shell.execute_reply": "2024-11-12T17:07:32.281189Z"
    },
    "papermill": {
     "duration": 0.452712,
     "end_time": "2024-11-12T17:07:32.285470",
     "exception": false,
     "start_time": "2024-11-12T17:07:31.832758",
     "status": "completed"
    },
    "tags": []
   },
   "outputs": [],
   "source": [
    "from tavily import TavilyClient"
   ]
  },
  {
   "cell_type": "code",
   "execution_count": 4,
   "id": "6472d498",
   "metadata": {
    "execution": {
     "iopub.execute_input": "2024-11-12T17:07:32.297456Z",
     "iopub.status.busy": "2024-11-12T17:07:32.296123Z",
     "iopub.status.idle": "2024-11-12T17:07:35.033957Z",
     "shell.execute_reply": "2024-11-12T17:07:35.032770Z"
    },
    "papermill": {
     "duration": 2.747205,
     "end_time": "2024-11-12T17:07:35.036729",
     "exception": false,
     "start_time": "2024-11-12T17:07:32.289524",
     "status": "completed"
    },
    "tags": []
   },
   "outputs": [
    {
     "name": "stdout",
     "output_type": "stream",
     "text": [
      "['https://www.britannica.com/place/India', 'https://simple.wikipedia.org/wiki/India', 'https://www.cia.gov/the-world-factbook/countries/india/', 'https://www.cia.gov/the-world-factbook/about/archives/2021/countries/india/', 'https://www.britannica.com/place/India/History']\n"
     ]
    }
   ],
   "source": [
    "def get_urls(topic):\n",
    "    \"\"\"\n",
    "    Fetch URLs related to a specific topic using the TavilyClient API.\n",
    "\n",
    "    This function takes a topic as input, creates an instance of TavilyClient \n",
    "    with the specified API key, and performs a search for the topic. It \n",
    "    returns a list of URLs from the search results.\n",
    "\n",
    "    Args:\n",
    "        topic (str): The topic or keyword to search for.\n",
    "\n",
    "    Returns:\n",
    "        list: A list of URLs (str) related to the specified topic.\n",
    "    \"\"\"\n",
    "    client = TavilyClient(api_key=tvly_api_key)\n",
    "    response = client.search(topic)\n",
    "\n",
    "    return [tvly_result[\"url\"] for tvly_result in response[\"results\"]]\n",
    "\n",
    "urls = get_urls(\"India\")\n",
    "print(urls)"
   ]
  }
 ],
 "metadata": {
  "kaggle": {
   "accelerator": "none",
   "dataSources": [],
   "dockerImageVersionId": 30786,
   "isGpuEnabled": false,
   "isInternetEnabled": true,
   "language": "python",
   "sourceType": "notebook"
  },
  "kernelspec": {
   "display_name": "Python 3",
   "language": "python",
   "name": "python3"
  },
  "language_info": {
   "codemirror_mode": {
    "name": "ipython",
    "version": 3
   },
   "file_extension": ".py",
   "mimetype": "text/x-python",
   "name": "python",
   "nbconvert_exporter": "python",
   "pygments_lexer": "ipython3",
   "version": "3.10.14"
  },
  "papermill": {
   "default_parameters": {},
   "duration": 22.756343,
   "end_time": "2024-11-12T17:07:35.462441",
   "environment_variables": {},
   "exception": null,
   "input_path": "__notebook__.ipynb",
   "output_path": "__notebook__.ipynb",
   "parameters": {},
   "start_time": "2024-11-12T17:07:12.706098",
   "version": "2.6.0"
  }
 },
 "nbformat": 4,
 "nbformat_minor": 5
}
