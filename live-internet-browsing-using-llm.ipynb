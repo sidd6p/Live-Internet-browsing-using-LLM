{
 "cells": [
  {
   "cell_type": "code",
   "execution_count": 1,
   "id": "84afb77a",
   "metadata": {
    "execution": {
     "iopub.execute_input": "2024-11-12T16:53:18.697649Z",
     "iopub.status.busy": "2024-11-12T16:53:18.697199Z",
     "iopub.status.idle": "2024-11-12T16:53:18.710804Z",
     "shell.execute_reply": "2024-11-12T16:53:18.709258Z"
    },
    "papermill": {
     "duration": 0.019907,
     "end_time": "2024-11-12T16:53:18.713261",
     "exception": false,
     "start_time": "2024-11-12T16:53:18.693354",
     "status": "completed"
    },
    "tags": []
   },
   "outputs": [
    {
     "name": "stdout",
     "output_type": "stream",
     "text": [
      "Hello\n"
     ]
    }
   ],
   "source": [
    "print(\"Hello\")"
   ]
  }
 ],
 "metadata": {
  "kaggle": {
   "accelerator": "none",
   "dataSources": [],
   "dockerImageVersionId": 30786,
   "isGpuEnabled": false,
   "isInternetEnabled": false,
   "language": "python",
   "sourceType": "notebook"
  },
  "kernelspec": {
   "display_name": "Python 3",
   "language": "python",
   "name": "python3"
  },
  "language_info": {
   "codemirror_mode": {
    "name": "ipython",
    "version": 3
   },
   "file_extension": ".py",
   "mimetype": "text/x-python",
   "name": "python",
   "nbconvert_exporter": "python",
   "pygments_lexer": "ipython3",
   "version": "3.10.14"
  },
  "papermill": {
   "default_parameters": {},
   "duration": 3.719754,
   "end_time": "2024-11-12T16:53:19.138023",
   "environment_variables": {},
   "exception": null,
   "input_path": "__notebook__.ipynb",
   "output_path": "__notebook__.ipynb",
   "parameters": {},
   "start_time": "2024-11-12T16:53:15.418269",
   "version": "2.6.0"
  }
 },
 "nbformat": 4,
 "nbformat_minor": 5
}
